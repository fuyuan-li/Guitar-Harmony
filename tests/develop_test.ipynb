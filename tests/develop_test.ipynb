{
 "cells": [
  {
   "cell_type": "code",
   "execution_count": 1,
   "metadata": {},
   "outputs": [],
   "source": [
    "from IPython.core.interactiveshell import InteractiveShell\n",
    "InteractiveShell.ast_node_interactivity = \"all\"\n",
    "%load_ext autoreload\n",
    "%autoreload 2"
   ]
  },
  {
   "cell_type": "code",
   "execution_count": 51,
   "metadata": {},
   "outputs": [
    {
     "data": {
      "text/plain": [
       "<music21.pitch.Pitch F4>"
      ]
     },
     "execution_count": 51,
     "metadata": {},
     "output_type": "execute_result"
    },
    {
     "data": {
      "image/png": "[encoded data removed]",
      "text/plain": [
       "<IPython.core.display.Image object>"
      ]
     },
     "metadata": {
      "image/png": {
       "height": 49,
       "width": 131
      }
     },
     "output_type": "display_data"
    }
   ],
   "source": [
    "import music21 as m2\n",
    "a = m2.note.Note('F4')\n",
    "# dir(a)\n",
    "a.pitch\n",
    "a.show()"
   ]
  },
  {
   "cell_type": "code",
   "execution_count": 2,
   "metadata": {},
   "outputs": [
    {
     "ename": "SyntaxError",
     "evalue": "invalid syntax (chord.py, line 55)",
     "output_type": "error",
     "traceback": [
      "Traceback \u001b[0;36m(most recent call last)\u001b[0m:\n",
      "  File \u001b[1;32m\"/Users/esparami/anaconda3/lib/python3.7/site-packages/IPython/core/interactiveshell.py\"\u001b[0m, line \u001b[1;32m3267\u001b[0m, in \u001b[1;35mrun_code\u001b[0m\n    exec(code_obj, self.user_global_ns, self.user_ns)\n",
      "  File \u001b[1;32m\"<ipython-input-2-a436c687991d>\"\u001b[0m, line \u001b[1;32m3\u001b[0m, in \u001b[1;35m<module>\u001b[0m\n    import guitarHarmony as gt\n",
      "\u001b[0;36m  File \u001b[0;32m\"../guitarHarmony/__init__.py\"\u001b[0;36m, line \u001b[0;32m19\u001b[0;36m, in \u001b[0;35m<module>\u001b[0;36m\u001b[0m\n\u001b[0;31m    from guitarHarmony.chord import Chord\u001b[0m\n",
      "\u001b[0;36m  File \u001b[0;32m\"../guitarHarmony/chord.py\"\u001b[0;36m, line \u001b[0;32m55\u001b[0m\n\u001b[0;31m    else\u001b[0m\n\u001b[0m        ^\u001b[0m\n\u001b[0;31mSyntaxError\u001b[0m\u001b[0;31m:\u001b[0m invalid syntax\n"
     ]
    }
   ],
   "source": [
    "import sys\n",
    "sys.path.insert(0, \"../\")\n",
    "import guitarHarmony as gt\n",
    "print(gt.__version__)\n",
    "from itertools import product\n",
    "import random"
   ]
  },
  {
   "cell_type": "code",
   "execution_count": 53,
   "metadata": {},
   "outputs": [],
   "source": [
    "note = None\n",
    "# note = 'F-b4'\n",
    "note if not note else note.replace('b', '-')\n",
    "note.replace('b','-') if note is not None else None"
   ]
  },
  {
   "cell_type": "code",
   "execution_count": 55,
   "metadata": {},
   "outputs": [
    {
     "data": {
      "text/plain": [
       "('C', <music21.pitch.Pitch C4>, 4)"
      ]
     },
     "execution_count": 55,
     "metadata": {},
     "output_type": "execute_result"
    },
    {
     "data": {
      "text/plain": [
       "(None,)"
      ]
     },
     "execution_count": 55,
     "metadata": {},
     "output_type": "execute_result"
    },
    {
     "data": {
      "text/plain": [
       "(<music21.duration.Duration 1.0>, 1.0)"
      ]
     },
     "execution_count": 55,
     "metadata": {},
     "output_type": "execute_result"
    },
    {
     "data": {
      "image/png": "[encoded data removed]",
      "text/plain": [
       "<IPython.core.display.Image object>"
      ]
     },
     "metadata": {
      "image/png": {
       "height": 67,
       "width": 147
      }
     },
     "output_type": "display_data"
    },
    {
     "data": {
      "text/html": [
       "\n",
       "                <div id='midiPlayerDiv414'></div>\n",
       "                <link rel=\"stylesheet\" href=\"//cuthbertLab.github.io/music21j/css/m21.css\"\n",
       "                    type=\"text/css\" />\n",
       "                <script>\n",
       "                require.config({\n",
       "                    paths: {'music21': '//cuthbertLab.github.io/music21j/src/music21'}\n",
       "                });\n",
       "                require(['music21'], function() {\n",
       "                               mp = new music21.miditools.MidiPlayer();\n",
       "                               mp.addPlayer('#midiPlayerDiv414');\n",
       "                               mp.base64Load('data:audio/midi;base64,TVRoZAAAAAYAAQABBABNVHJrAAAAFwD/AwAA4ABAiACQPFqIAIA8AIgA/y8A');\n",
       "                        });\n",
       "                </script>"
      ],
      "text/plain": [
       "<IPython.core.display.HTML object>"
      ]
     },
     "metadata": {},
     "output_type": "display_data"
    },
    {
     "data": {
      "image/png": "[encoded data removed]",
      "text/plain": [
       "<IPython.core.display.Image object>"
      ]
     },
     "metadata": {
      "image/png": {
       "height": 50,
       "width": 147
      }
     },
     "output_type": "display_data"
    }
   ],
   "source": [
    "a=gt.Note()\n",
    "a.name, a.pitch, a.octave\n",
    "a.pitch.accidental, \n",
    "a.duration, a.duration.quarterLength\n",
    "a.show('notation')\n",
    "a.show('midi')\n",
    "a.show('')"
   ]
  },
  {
   "cell_type": "code",
   "execution_count": 47,
   "metadata": {},
   "outputs": [
    {
     "data": {
      "text/plain": [
       "('F', <music21.pitch.Pitch F5>, 5, None)"
      ]
     },
     "execution_count": 47,
     "metadata": {},
     "output_type": "execute_result"
    },
    {
     "data": {
      "text/plain": [
       "(<music21.duration.Duration 1.0>, 1.0)"
      ]
     },
     "execution_count": 47,
     "metadata": {},
     "output_type": "execute_result"
    },
    {
     "ename": "NameError",
     "evalue": "name 'Stream' is not defined",
     "output_type": "error",
     "traceback": [
      "\u001b[0;31m---------------------------------------------------------------------------\u001b[0m",
      "\u001b[0;31mNameError\u001b[0m                                 Traceback (most recent call last)",
      "\u001b[0;32m<ipython-input-47-1cd568f1d9de>\u001b[0m in \u001b[0;36m<module>\u001b[0;34m\u001b[0m\n\u001b[1;32m      2\u001b[0m \u001b[0ma\u001b[0m\u001b[0;34m.\u001b[0m\u001b[0mname\u001b[0m\u001b[0;34m,\u001b[0m \u001b[0ma\u001b[0m\u001b[0;34m.\u001b[0m\u001b[0mpitch\u001b[0m\u001b[0;34m,\u001b[0m \u001b[0ma\u001b[0m\u001b[0;34m.\u001b[0m\u001b[0moctave\u001b[0m\u001b[0;34m,\u001b[0m \u001b[0ma\u001b[0m\u001b[0;34m.\u001b[0m\u001b[0mpitch\u001b[0m\u001b[0;34m.\u001b[0m\u001b[0maccidental\u001b[0m\u001b[0;34m,\u001b[0m\u001b[0;34m\u001b[0m\u001b[0;34m\u001b[0m\u001b[0m\n\u001b[1;32m      3\u001b[0m \u001b[0ma\u001b[0m\u001b[0;34m.\u001b[0m\u001b[0mduration\u001b[0m\u001b[0;34m,\u001b[0m \u001b[0ma\u001b[0m\u001b[0;34m.\u001b[0m\u001b[0mduration\u001b[0m\u001b[0;34m.\u001b[0m\u001b[0mquarterLength\u001b[0m\u001b[0;34m\u001b[0m\u001b[0;34m\u001b[0m\u001b[0m\n\u001b[0;32m----> 4\u001b[0;31m \u001b[0ma\u001b[0m\u001b[0;34m.\u001b[0m\u001b[0mshow\u001b[0m\u001b[0;34m(\u001b[0m\u001b[0;34m)\u001b[0m\u001b[0;34m\u001b[0m\u001b[0;34m\u001b[0m\u001b[0m\n\u001b[0m\u001b[1;32m      5\u001b[0m \u001b[0ma\u001b[0m\u001b[0;34m.\u001b[0m\u001b[0mshow\u001b[0m\u001b[0;34m(\u001b[0m\u001b[0;34m'midi'\u001b[0m\u001b[0;34m)\u001b[0m\u001b[0;34m\u001b[0m\u001b[0;34m\u001b[0m\u001b[0m\n\u001b[1;32m      6\u001b[0m \u001b[0ma\u001b[0m\u001b[0;34m\u001b[0m\u001b[0;34m\u001b[0m\u001b[0m\n",
      "\u001b[0;32m/Volumes/Esparami/Source/code/Python/learn_guitar/guitarHarmony/guitarHarmony/note.py\u001b[0m in \u001b[0;36mshow\u001b[0;34m(self, show_type)\u001b[0m\n\u001b[1;32m     42\u001b[0m \u001b[0;34m\u001b[0m\u001b[0m\n\u001b[1;32m     43\u001b[0m     \u001b[0;32mdef\u001b[0m \u001b[0mshow\u001b[0m\u001b[0;34m(\u001b[0m\u001b[0mself\u001b[0m\u001b[0;34m,\u001b[0m \u001b[0mshow_type\u001b[0m \u001b[0;34m=\u001b[0m \u001b[0;34m''\u001b[0m\u001b[0;34m)\u001b[0m\u001b[0;34m:\u001b[0m\u001b[0;34m\u001b[0m\u001b[0;34m\u001b[0m\u001b[0m\n\u001b[0;32m---> 44\u001b[0;31m         \u001b[0mstream\u001b[0m \u001b[0;34m=\u001b[0m \u001b[0mStream\u001b[0m\u001b[0;34m(\u001b[0m\u001b[0;34m[\u001b[0m\u001b[0mself\u001b[0m\u001b[0;34m]\u001b[0m\u001b[0;34m)\u001b[0m\u001b[0;34m\u001b[0m\u001b[0;34m\u001b[0m\u001b[0m\n\u001b[0m\u001b[1;32m     45\u001b[0m         \u001b[0mstream\u001b[0m\u001b[0;34m.\u001b[0m\u001b[0mshow\u001b[0m\u001b[0;34m(\u001b[0m\u001b[0mshow_type\u001b[0m\u001b[0;34m)\u001b[0m\u001b[0;34m\u001b[0m\u001b[0;34m\u001b[0m\u001b[0m\n\u001b[1;32m     46\u001b[0m \u001b[0;34m\u001b[0m\u001b[0m\n",
      "\u001b[0;31mNameError\u001b[0m: name 'Stream' is not defined"
     ]
    }
   ],
   "source": [
    "a=gt.Note('F5')\n",
    "a.name, a.pitch, a.octave, a.pitch.accidental, \n",
    "a.duration, a.duration.quarterLength\n",
    "a.show()\n",
    "a.show('midi')\n",
    "a"
   ]
  },
  {
   "cell_type": "code",
   "execution_count": null,
   "metadata": {},
   "outputs": [],
   "source": []
  },
  {
   "cell_type": "code",
   "execution_count": 8,
   "metadata": {},
   "outputs": [
    {
     "data": {
      "text/plain": [
       "('F', <music21.pitch.Pitch F4>, 4, None)"
      ]
     },
     "execution_count": 8,
     "metadata": {},
     "output_type": "execute_result"
    },
    {
     "data": {
      "text/plain": [
       "(<music21.duration.Duration 1.0>, 1.0)"
      ]
     },
     "execution_count": 8,
     "metadata": {},
     "output_type": "execute_result"
    },
    {
     "data": {
      "text/plain": [
       "Note(F4)"
      ]
     },
     "execution_count": 8,
     "metadata": {},
     "output_type": "execute_result"
    },
    {
     "data": {
      "text/plain": [
       "Note(Eb5)"
      ]
     },
     "execution_count": 8,
     "metadata": {},
     "output_type": "execute_result"
    },
    {
     "data": {
      "text/plain": [
       "False"
      ]
     },
     "execution_count": 8,
     "metadata": {},
     "output_type": "execute_result"
    },
    {
     "data": {
      "text/plain": [
       "15"
      ]
     },
     "execution_count": 8,
     "metadata": {},
     "output_type": "execute_result"
    },
    {
     "data": {
      "text/plain": [
       "'Cb5'"
      ]
     },
     "execution_count": 8,
     "metadata": {},
     "output_type": "execute_result"
    },
    {
     "data": {
      "text/plain": [
       "Note(B4)"
      ]
     },
     "execution_count": 8,
     "metadata": {},
     "output_type": "execute_result"
    },
    {
     "data": {
      "text/plain": [
       "11"
      ]
     },
     "execution_count": 8,
     "metadata": {},
     "output_type": "execute_result"
    }
   ],
   "source": [
    "import guitarHarmony as gt\n",
    "a=gt.Note('F4')\n",
    "a.name, a.pitch, a.octave, a.pitch.accidental, \n",
    "a.duration, a.duration.quarterLength\n",
    "# a.show()\n",
    "# a.show('midi')\n",
    "a\n",
    "b=gt.Note('F4')\n",
    "b=gt.Note('F-5')\n",
    "b=gt.Note('E-5')\n",
    "b\n",
    "a==b\n",
    "b.semiSteps()\n",
    "# for s in ['C3', 'D###3', 'E5', 'F', 'G', 'A', 'B']:\n",
    "# #     a = m2.note.Note(s)\n",
    "# #     print(a, a.octave)\n",
    "#     a = gt.Note(s)\n",
    "#     a, a.semiSteps()\n",
    "s = 'Cb5'\n",
    "s\n",
    "a = gt.Note(s)\n",
    "a.simplify()\n",
    "steps = a.semiSteps()\n",
    "steps\n",
    "# octave, residual = steps // 12, steps % 12\n",
    "# octave, residual\n",
    "# step_to_tone = {0:'C', 1:'C#,Db', 2:'D', 3:'D#,Eb', 4:'E', 5:'F', \n",
    "#                     6:'F#,Gb',7:'G',8:'G#,Ab',9:'A',10:'A#,Bb', 11:'B'}\n",
    "# step_to_tone[residual].split(',')[0]\n"
   ]
  },
  {
   "cell_type": "code",
   "execution_count": 9,
   "metadata": {},
   "outputs": [
    {
     "data": {
      "text/plain": [
       "Note(G#4)"
      ]
     },
     "execution_count": 9,
     "metadata": {},
     "output_type": "execute_result"
    },
    {
     "data": {
      "text/plain": [
       "Note(F4)"
      ]
     },
     "execution_count": 9,
     "metadata": {},
     "output_type": "execute_result"
    },
    {
     "data": {
      "text/plain": [
       "Note(Eb4)"
      ]
     },
     "execution_count": 9,
     "metadata": {},
     "output_type": "execute_result"
    },
    {
     "data": {
      "text/plain": [
       "(4, 5)"
      ]
     },
     "execution_count": 9,
     "metadata": {},
     "output_type": "execute_result"
    },
    {
     "data": {
      "text/plain": [
       "(<music21.note.Note F>, <music21.note.Note C--->)"
      ]
     },
     "execution_count": 9,
     "metadata": {},
     "output_type": "execute_result"
    },
    {
     "data": {
      "text/plain": [
       "('F', 'C')"
      ]
     },
     "execution_count": 9,
     "metadata": {},
     "output_type": "execute_result"
    },
    {
     "data": {
      "text/plain": [
       "-3.0"
      ]
     },
     "execution_count": 9,
     "metadata": {},
     "output_type": "execute_result"
    },
    {
     "data": {
      "text/plain": [
       "'full'"
      ]
     },
     "execution_count": 9,
     "metadata": {},
     "output_type": "execute_result"
    }
   ],
   "source": [
    "# a.transpose(3, inPlace=True)\n",
    "# a.transpose(3)\n",
    "# a.name\n",
    "import guitarHarmony as gt\n",
    "a=gt.Note('F4')\n",
    "# a.addNotation()\n",
    "# a.show()\n",
    "# a.removeNotation()\n",
    "# a.show('notation')\n",
    "# a.show()\n",
    "# print(dir(a.note))\n",
    "# a.insertLyric('fd')\n",
    "# a.lyric\n",
    "# a.show()\n",
    "a.transpose(3)\n",
    "a\n",
    "a.transpose(-2)\n",
    "a = m2.note.Note('F4')\n",
    "b = m2.note.Note('C---5')\n",
    "a.octave, b.octave\n",
    "a, b\n",
    "a.step, b.step\n",
    "b.pitch.accidental.alter\n",
    "b.pitch.accidental.displaySize\n",
    "# a.pitch.accidental, dir(b.pitch.accidental),"
   ]
  },
  {
   "cell_type": "code",
   "execution_count": 11,
   "metadata": {
    "scrolled": false
   },
   "outputs": [
    {
     "data": {
      "text/html": [
       "\n",
       "                <div id='midiPlayerDiv987'></div>\n",
       "                <link rel=\"stylesheet\" href=\"//cuthbertLab.github.io/music21j/css/m21.css\"\n",
       "                    type=\"text/css\" />\n",
       "                <script>\n",
       "                require.config({\n",
       "                    paths: {'music21': '//cuthbertLab.github.io/music21j/src/music21'}\n",
       "                });\n",
       "                require(['music21'], function() {\n",
       "                               mp = new music21.miditools.MidiPlayer();\n",
       "                               mp.addPlayer('#midiPlayerDiv987');\n",
       "                               mp.base64Load('data:audio/midi;base64,TVRoZAAAAAYAAQABBABNVHJrAAAAHwD/AwAA4ABAiACQPFoAkDxaiACAPAAAgDwAiAD/LwA=');\n",
       "                        });\n",
       "                </script>"
      ],
      "text/plain": [
       "<IPython.core.display.HTML object>"
      ]
     },
     "metadata": {},
     "output_type": "display_data"
    }
   ],
   "source": [
    "import guitarHarmony as gt\n",
    "for intv in gt.Interval.displayAllIntervals():\n",
    "    gt.Interval(intv).show('midi')\n",
    "    break\n",
    "\n",
    "# a = gt.Interval('A2')\n",
    "# b = gt.Interval('m9')\n",
    "# a = gt.Note('C')\n",
    "# # a, b\n",
    "# # a == b\n",
    "# # a.allIntervals()\n",
    "# # a = gt.Note('D#')\n",
    "# # names = ['C', 'C#', 'Db', 'D', 'D#', 'Eb', 'E', 'F', 'F#', 'Gb', 'G', 'G#', 'Ab', 'A', 'A#', 'Bb', 'B', 'C5']\n",
    "# # # a.semiSteps(), b.semiSteps()\n",
    "# # for name in names:\n",
    "#     # b = gt.Note(name)\n",
    "#     # a, b, gt.Interval.getIntervals(a, b)\n",
    "    \n",
    "    \n",
    "# b.show()\n",
    "# b.show('midi')\n",
    "# b.show('text', base='D5#')\n",
    "# b.show('notation', base='D6#')\n",
    "# a.show('notation')"
   ]
  },
  {
   "cell_type": "code",
   "execution_count": 14,
   "metadata": {
    "scrolled": false
   },
   "outputs": [
    {
     "data": {
      "text/plain": [
       "Note(Cbb4)"
      ]
     },
     "execution_count": 14,
     "metadata": {},
     "output_type": "execute_result"
    }
   ],
   "source": [
    "import guitarHarmony as gt\n",
    "note = 'C-b'\n",
    "gt.Note(note)\n",
    "# gt.Interval.applyInterval(note,'A7')\n",
    "# for i in gt.Interval.allIntervals():\n",
    "#     gt.Note(note), i, gt.Interval.applyInterval(note, i)"
   ]
  },
  {
   "cell_type": "code",
   "execution_count": 235,
   "metadata": {
    "scrolled": false
   },
   "outputs": [
    {
     "data": {
      "text/plain": [
       "[Note(C), Note(E), Note(G), Note(Bb)]"
      ]
     },
     "execution_count": 235,
     "metadata": {},
     "output_type": "execute_result"
    },
    {
     "data": {
      "text/plain": [
       "<music21.stream.Stream 0xa1c271e10>"
      ]
     },
     "execution_count": 235,
     "metadata": {},
     "output_type": "execute_result"
    },
    {
     "data": {
      "text/plain": [
       "<music21.stream.Stream 0xa1c271588>"
      ]
     },
     "execution_count": 235,
     "metadata": {},
     "output_type": "execute_result"
    },
    {
     "data": {
      "text/plain": [
       "<music21.stream.Stream 0xa1c1f8198>"
      ]
     },
     "execution_count": 235,
     "metadata": {},
     "output_type": "execute_result"
    },
    {
     "data": {
      "text/plain": [
       "<music21.stream.Stream 0xa1c271048>"
      ]
     },
     "execution_count": 235,
     "metadata": {},
     "output_type": "execute_result"
    },
    {
     "data": {
      "text/plain": [
       "<music21.stream.Stream 0xa1c1f8400>"
      ]
     },
     "execution_count": 235,
     "metadata": {},
     "output_type": "execute_result"
    },
    {
     "data": {
      "text/plain": [
       "<music21.stream.Stream 0xa1c2716d8>"
      ]
     },
     "execution_count": 235,
     "metadata": {},
     "output_type": "execute_result"
    },
    {
     "data": {
      "text/plain": [
       "<music21.stream.Stream 0xa1c2309e8>"
      ]
     },
     "execution_count": 235,
     "metadata": {},
     "output_type": "execute_result"
    },
    {
     "data": {
      "text/plain": [
       "<music21.stream.Stream 0xa1bc554e0>"
      ]
     },
     "execution_count": 235,
     "metadata": {},
     "output_type": "execute_result"
    },
    {
     "data": {
      "text/plain": [
       "<music21.stream.Stream 0xa1bb19400>"
      ]
     },
     "execution_count": 235,
     "metadata": {},
     "output_type": "execute_result"
    },
    {
     "data": {
      "text/plain": [
       "<music21.stream.Stream 0xa1c265358>"
      ]
     },
     "execution_count": 235,
     "metadata": {},
     "output_type": "execute_result"
    },
    {
     "data": {
      "text/plain": [
       "<music21.stream.Stream 0xa1bc558d0>"
      ]
     },
     "execution_count": 235,
     "metadata": {},
     "output_type": "execute_result"
    },
    {
     "data": {
      "text/plain": [
       "<music21.stream.Stream 0xa1bc29898>"
      ]
     },
     "execution_count": 235,
     "metadata": {},
     "output_type": "execute_result"
    },
    {
     "data": {
      "text/plain": [
       "<music21.stream.Stream 0xa1c1f8198>"
      ]
     },
     "execution_count": 235,
     "metadata": {},
     "output_type": "execute_result"
    },
    {
     "data": {
      "text/plain": [
       "<music21.stream.Stream 0xa1c265ac8>"
      ]
     },
     "execution_count": 235,
     "metadata": {},
     "output_type": "execute_result"
    },
    {
     "data": {
      "text/plain": [
       "<music21.stream.Stream 0xa1c203780>"
      ]
     },
     "execution_count": 235,
     "metadata": {},
     "output_type": "execute_result"
    },
    {
     "data": {
      "text/plain": [
       "<music21.stream.Stream 0xa1bc29898>"
      ]
     },
     "execution_count": 235,
     "metadata": {},
     "output_type": "execute_result"
    }
   ],
   "source": [
    "import guitarHarmony as gt\n",
    "root='C'\n",
    "chord_type='7'\n",
    "chord = gt.Chord(root, chord_type)\n",
    "chord.notes\n",
    "\n",
    "root = 'CDEFGAB'\n",
    "for t in gt.Chord.displayAllChords():\n",
    "    gt.Chord('C',chord_type=t).arpeggio\n",
    "\n",
    "# for i in range(4):\n",
    "#     chord.getInversion(i).show('notation')\n",
    "# chord.getArpeggios()"
   ]
  },
  {
   "cell_type": "code",
   "execution_count": 165,
   "metadata": {},
   "outputs": [
    {
     "data": {
      "text/plain": [
       "2"
      ]
     },
     "execution_count": 165,
     "metadata": {},
     "output_type": "execute_result"
    }
   ],
   "source": [
    "class Test(object):\n",
    "    def __init__(self, a=1, add=True):\n",
    "        self.a = a\n",
    "        if add:\n",
    "            self.a += 1\n",
    "    def __repr__(self):\n",
    "        return str(self.a)\n",
    "v = Test(a=1, add=True)\n",
    "v"
   ]
  },
  {
   "cell_type": "code",
   "execution_count": 203,
   "metadata": {
    "scrolled": false
   },
   "outputs": [
    {
     "data": {
      "image/png": "[encoded data removed]",
      "text/plain": [
       "<IPython.core.display.Image object>"
      ]
     },
     "metadata": {
      "image/png": {
       "height": 334,
       "width": 750
      }
     },
     "output_type": "display_data"
    },
    {
     "data": {
      "text/html": [
       "\n",
       "                <div id='midiPlayerDiv490994'></div>\n",
       "                <link rel=\"stylesheet\" href=\"//cuthbertLab.github.io/music21j/css/m21.css\"\n",
       "                    type=\"text/css\" />\n",
       "                <script>\n",
       "                require.config({\n",
       "                    paths: {'music21': '//cuthbertLab.github.io/music21j/src/music21'}\n",
       "                });\n",
       "                require(['music21'], function() {\n",
       "                               mp = new music21.miditools.MidiPlayer();\n",
       "                               mp.addPlayer('#midiPlayerDiv490994');\n",
       "                               mp.base64Load('data:audio/midi;base64,TVRoZAAAAAYAAQABBABNVHJrAAACFgD/AwAA4ABAiACQRVoAkElaAJBMWgCQUFqIAIBFAACASQAAgEwAAIBQAACQUFqGAIBQAACQTFqGAIBMAACQSVqGAIBJAACQRVqGAIBFAACQSVoAkExaAJBQWgCQUVqIAIBJAACATAAAgFAAAIBRAACQSVqGAIBJAACQTFqGAIBMAACQUFqGAIBQAACQUVqGAIBRAACQPVoAkD9aAJBEWogAgD0AAIA/AACARAAAkERahgCARAAAkD9ahgCAPwAAkD1ahgCAPQAAkERahgCARAAAkD9aAJBEWgCQSVqIAIA/AACARAAAgEkAAJA/WoYAgD8AAJBEWoYAgEQAAJBJWoYAgEkAAJA/WoYAgD8AAJBCWgCQRVoAkElaAJBMWogAgEIAAIBFAACASQAAgEwAAJBMWoYAgEwAAJBJWoYAgEkAAJBFWoYAgEUAAJBCWoYAgEIAAJBFWgCQSVoAkExaAJBOWogAgEUAAIBJAACATAAAgE4AAJBFWoYAgEUAAJBJWoYAgEkAAJBMWoYAgEwAAJBOWoYAgE4AAJBAWgCQRFoAkEdaiACAQAAAgEQAAIBHAACQR1qGAIBHAACQRFqGAIBEAACQQFqGAIBAAACQR1qGAIBHAACQRFoAkEdaAJBMWogAgEQAAIBHAACATAAAkERahgCARAAAkEdahgCARwAAkExahgCATAAAkERahgCARACIAP8vAA==');\n",
       "                        });\n",
       "                </script>"
      ],
      "text/plain": [
       "<IPython.core.display.HTML object>"
      ]
     },
     "metadata": {},
     "output_type": "display_data"
    }
   ],
   "source": [
    "import guitarHarmony as gt\n",
    "# a = gt.Note('Fb')\n",
    "# a.show('text')\n",
    "# a.show('notation')\n",
    "# a.show('midi')\n",
    "# a.show('')\n",
    "# a = gt.Interval('A9')\n",
    "# a.show('text')\n",
    "# a.show('notation')\n",
    "# a.show('midi')\n",
    "# a.show('')\n",
    "elements  = []\n",
    "for bass, chord in[('A','maj7'), ('C#','sus2'), ('F#', 'm7'), ('E', '')]: \n",
    "\ta = gt.Chord(bass, chord)\n",
    "\tif len(a.notes) == 4:\n",
    "\t\telements.append(a)\n",
    "\t\telements.extend(a.arpeggio[::-1])\n",
    "\t\tb = a.getInversion(1)\n",
    "\t\telements.append(b)\n",
    "\t\telements.extend(b.arpeggio)\n",
    "\telse:\n",
    "\t\telements.append(a)\n",
    "\t\telements.extend(a.arpeggio[::-1])\n",
    "\t\telements.append(a.arpeggio[2])\n",
    "\t\tb = a.getInversion(1)\n",
    "\t\telements.append(b)\n",
    "\t\telements.extend(b.arpeggio)\n",
    "\t\telements.extend(b.arpeggio[:1])\n",
    "# elements\n",
    "s = gt.Stream(elements)\n",
    "# s.show('')\n",
    "# s.show('text')\n",
    "s.show('notation')\n",
    "s.show('midi')\n",
    "# s.show('')"
   ]
  },
  {
   "cell_type": "code",
   "execution_count": null,
   "metadata": {},
   "outputs": [],
   "source": []
  },
  {
   "cell_type": "code",
   "execution_count": null,
   "metadata": {},
   "outputs": [],
   "source": []
  },
  {
   "cell_type": "code",
   "execution_count": null,
   "metadata": {},
   "outputs": [],
   "source": []
  },
  {
   "cell_type": "code",
   "execution_count": null,
   "metadata": {},
   "outputs": [],
   "source": [
    "import guitarHarmony1 as gt\n",
    "gt.Note('')\n",
    "note = ''\n",
    "bool(re.match(\"[A-G](#{0,4}|(b|-){0,4})[1-9]\", note))\n",
    "bool(re.match(\"[A-G](#{0,4}|b{0,4})[1-9]\", 'A#b2'))"
   ]
  },
  {
   "cell_type": "code",
   "execution_count": null,
   "metadata": {},
   "outputs": [],
   "source": []
  },
  {
   "cell_type": "code",
   "execution_count": null,
   "metadata": {},
   "outputs": [],
   "source": []
  },
  {
   "cell_type": "code",
   "execution_count": null,
   "metadata": {},
   "outputs": [],
   "source": [
    "def getChord(root, chord_type):\n",
    "    return list(map(str,gt.chord.Chord(root, chord_type).notes))"
   ]
  },
  {
   "cell_type": "code",
   "execution_count": null,
   "metadata": {},
   "outputs": [],
   "source": [
    "getChord('C','maj7')\n",
    "getChord('B','m')"
   ]
  },
  {
   "cell_type": "code",
   "execution_count": null,
   "metadata": {},
   "outputs": [],
   "source": [
    "a=gt.note.Note('C4')\n",
    "str(a)"
   ]
  },
  {
   "cell_type": "code",
   "execution_count": null,
   "metadata": {},
   "outputs": [],
   "source": [
    "list(map(str, gt.chord.Chord('A').notes))\n",
    "list(map(str, gt.chord.Chord('B','dim').notes))"
   ]
  },
  {
   "cell_type": "code",
   "execution_count": null,
   "metadata": {},
   "outputs": [],
   "source": [
    "def getInterval(root='C', interval='P1'):\n",
    "    return [str(gt.note.Note(root)+gt.interval.Interval(interval))]"
   ]
  },
  {
   "cell_type": "code",
   "execution_count": null,
   "metadata": {},
   "outputs": [],
   "source": [
    "getInterval('D##','P4')"
   ]
  },
  {
   "cell_type": "code",
   "execution_count": null,
   "metadata": {},
   "outputs": [],
   "source": []
  }
 ],
 "metadata": {
  "kernelspec": {
   "display_name": "Python 3",
   "language": "python",
   "name": "python3"
  },
  "language_info": {
   "codemirror_mode": {
    "name": "ipython",
    "version": 3
   },
   "file_extension": ".py",
   "mimetype": "text/x-python",
   "name": "python",
   "nbconvert_exporter": "python",
   "pygments_lexer": "ipython3",
   "version": "3.7.1"
  }
 },
 "nbformat": 4,
 "nbformat_minor": 2
}
