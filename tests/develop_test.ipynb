{
 "cells": [
  {
   "cell_type": "code",
   "execution_count": 1,
   "metadata": {},
   "outputs": [],
   "source": [
    "from IPython.core.interactiveshell import InteractiveShell\n",
    "InteractiveShell.ast_node_interactivity = \"all\"\n",
    "%load_ext autoreload\n",
    "%autoreload 2"
   ]
  },
  {
   "cell_type": "code",
   "execution_count": null,
   "metadata": {},
   "outputs": [],
   "source": [
    "import music21 as m2\n",
    "a = m2.note.Note('F4')\n",
    "# dir(a)\n",
    "a.pitch\n",
    "a.show()"
   ]
  },
  {
   "cell_type": "code",
   "execution_count": 4,
   "metadata": {},
   "outputs": [],
   "source": [
    "import sys\n",
    "sys.path.insert(0, \"../\")\n",
    "import guitarHarmony as gt\n",
    "\n",
    "from itertools import product\n",
    "import random"
   ]
  },
  {
   "cell_type": "code",
   "execution_count": null,
   "metadata": {},
   "outputs": [],
   "source": [
    "note = None\n",
    "# note = 'F-b4'\n",
    "note if not note else note.replace('b', '-')\n",
    "note.replace('b','-') if note is not None else None"
   ]
  },
  {
   "cell_type": "code",
   "execution_count": null,
   "metadata": {},
   "outputs": [],
   "source": [
    "a=gt.note.Note()\n",
    "a.name, a.pitch, a.octave\n",
    "a.pitch.accidental, \n",
    "a.duration, a.duration.quarterLength\n",
    "a.show()\n",
    "a.show('midi')\n",
    "a.note"
   ]
  },
  {
   "cell_type": "code",
   "execution_count": null,
   "metadata": {},
   "outputs": [],
   "source": [
    "a=gt.note.Note('F5')\n",
    "a.name, a.pitch, a.octave, a.pitch.accidental, \n",
    "a.duration, a.duration.quarterLength\n",
    "a.show()\n",
    "a.show('midi')\n",
    "a"
   ]
  },
  {
   "cell_type": "code",
   "execution_count": null,
   "metadata": {},
   "outputs": [],
   "source": []
  },
  {
   "cell_type": "code",
   "execution_count": 15,
   "metadata": {},
   "outputs": [
    {
     "data": {
      "text/plain": [
       "('F', <music21.pitch.Pitch F4>, 4, None)"
      ]
     },
     "execution_count": 15,
     "metadata": {},
     "output_type": "execute_result"
    },
    {
     "data": {
      "text/plain": [
       "(<music21.duration.Duration 1.0>, 1.0)"
      ]
     },
     "execution_count": 15,
     "metadata": {},
     "output_type": "execute_result"
    },
    {
     "data": {
      "text/plain": [
       "Note(F4)"
      ]
     },
     "execution_count": 15,
     "metadata": {},
     "output_type": "execute_result"
    },
    {
     "data": {
      "text/plain": [
       "Note(E-5)"
      ]
     },
     "execution_count": 15,
     "metadata": {},
     "output_type": "execute_result"
    },
    {
     "data": {
      "text/plain": [
       "False"
      ]
     },
     "execution_count": 15,
     "metadata": {},
     "output_type": "execute_result"
    },
    {
     "data": {
      "text/plain": [
       "15"
      ]
     },
     "execution_count": 15,
     "metadata": {},
     "output_type": "execute_result"
    },
    {
     "data": {
      "text/plain": [
       "'Cb5'"
      ]
     },
     "execution_count": 15,
     "metadata": {},
     "output_type": "execute_result"
    },
    {
     "data": {
      "text/plain": [
       "Note(B4)"
      ]
     },
     "execution_count": 15,
     "metadata": {},
     "output_type": "execute_result"
    },
    {
     "data": {
      "text/plain": [
       "11"
      ]
     },
     "execution_count": 15,
     "metadata": {},
     "output_type": "execute_result"
    }
   ],
   "source": [
    "import guitarHarmony as gt\n",
    "a=gt.note.Note('F4')\n",
    "a.name, a.pitch, a.octave, a.pitch.accidental, \n",
    "a.duration, a.duration.quarterLength\n",
    "# a.show()\n",
    "# a.show('midi')\n",
    "a\n",
    "b=gt.note.Note('F4')\n",
    "b=gt.note.Note('F-5')\n",
    "b=gt.note.Note('E-5')\n",
    "b\n",
    "a==b\n",
    "b.semiSteps()\n",
    "# for s in ['C3', 'D###3', 'E5', 'F', 'G', 'A', 'B']:\n",
    "# #     a = m2.note.Note(s)\n",
    "# #     print(a, a.octave)\n",
    "#     a = gt.note.Note(s)\n",
    "#     a, a.semiSteps()\n",
    "s = 'Cb5'\n",
    "s\n",
    "a = gt.note.Note(s)\n",
    "a.simplify()\n",
    "steps = a.semiSteps()\n",
    "steps\n",
    "# octave, residual = steps // 12, steps % 12\n",
    "# octave, residual\n",
    "# step_to_tone = {0:'C', 1:'C#,Db', 2:'D', 3:'D#,Eb', 4:'E', 5:'F', \n",
    "#                     6:'F#,Gb',7:'G',8:'G#,Ab',9:'A',10:'A#,Bb', 11:'B'}\n",
    "# step_to_tone[residual].split(',')[0]\n"
   ]
  },
  {
   "cell_type": "code",
   "execution_count": null,
   "metadata": {},
   "outputs": [],
   "source": [
    "# a.note.transpose(3, inPlace=True)\n",
    "# a.transpose(3)\n",
    "# a.name\n",
    "import guitarHarmony as gt\n",
    "a=gt.note.Note('F4')\n",
    "# a.addNotation()\n",
    "# a.show()\n",
    "# a.removeNotation()\n",
    "# a.show('notation')\n",
    "# a.show()\n",
    "# print(dir(a.note))\n",
    "# a.note.insertLyric('fd')\n",
    "# a.note.lyric\n",
    "# a.show()\n",
    "a.transpose(3)\n",
    "a\n",
    "a.transpose(-2)\n",
    "a = m2.note.Note('F4')\n",
    "b = m2.note.Note('C---5')\n",
    "a.octave, b.octave\n",
    "a, b\n",
    "a.step, b.step\n",
    "b.pitch.accidental.alter\n",
    "b.pitch.accidental.displaySize\n",
    "a.pitch.accidental, dir(b.pitch.accidental),"
   ]
  },
  {
   "cell_type": "code",
   "execution_count": 221,
   "metadata": {},
   "outputs": [
    {
     "data": {
      "text/plain": [
       "(Interval(Augmented, 2nd), Interval(Minor, 3rd))"
      ]
     },
     "execution_count": 221,
     "metadata": {},
     "output_type": "execute_result"
    },
    {
     "data": {
      "text/plain": [
       "True"
      ]
     },
     "execution_count": 221,
     "metadata": {},
     "output_type": "execute_result"
    },
    {
     "name": "stdout",
     "output_type": "stream",
     "text": [
      "['A1', 'm2'] 1\n"
     ]
    },
    {
     "data": {
      "text/plain": [
       "(Note(C-), Note(C), Interval(Augmented, 1st))"
      ]
     },
     "execution_count": 221,
     "metadata": {},
     "output_type": "execute_result"
    },
    {
     "name": "stdout",
     "output_type": "stream",
     "text": [
      "['M2', 'd3'] 1\n"
     ]
    },
    {
     "ename": "UserWarning",
     "evalue": "double augmented or double diminished ignored.",
     "output_type": "error",
     "traceback": [
      "\u001b[0;31m----------------------------------------------------------\u001b[0m",
      "\u001b[0;31mUserWarning\u001b[0m              Traceback (most recent call last)",
      "\u001b[0;32m<ipython-input-221-b5abd0c7e36f>\u001b[0m in \u001b[0;36m<module>\u001b[0;34m\u001b[0m\n\u001b[1;32m     10\u001b[0m \u001b[0;32mfor\u001b[0m \u001b[0mname\u001b[0m \u001b[0;32min\u001b[0m \u001b[0mnames\u001b[0m\u001b[0;34m:\u001b[0m\u001b[0;34m\u001b[0m\u001b[0;34m\u001b[0m\u001b[0m\n\u001b[1;32m     11\u001b[0m     \u001b[0mb\u001b[0m \u001b[0;34m=\u001b[0m \u001b[0mgt\u001b[0m\u001b[0;34m.\u001b[0m\u001b[0mnote\u001b[0m\u001b[0;34m.\u001b[0m\u001b[0mNote\u001b[0m\u001b[0;34m(\u001b[0m\u001b[0mname\u001b[0m\u001b[0;34m)\u001b[0m\u001b[0;34m\u001b[0m\u001b[0;34m\u001b[0m\u001b[0m\n\u001b[0;32m---> 12\u001b[0;31m     \u001b[0ma\u001b[0m\u001b[0;34m,\u001b[0m \u001b[0mb\u001b[0m\u001b[0;34m,\u001b[0m \u001b[0mgt\u001b[0m\u001b[0;34m.\u001b[0m\u001b[0minterval\u001b[0m\u001b[0;34m.\u001b[0m\u001b[0mInterval\u001b[0m\u001b[0;34m.\u001b[0m\u001b[0mgetIntervals\u001b[0m\u001b[0;34m(\u001b[0m\u001b[0ma\u001b[0m\u001b[0;34m,\u001b[0m \u001b[0mb\u001b[0m\u001b[0;34m)\u001b[0m\u001b[0;34m\u001b[0m\u001b[0;34m\u001b[0m\u001b[0m\n\u001b[0m\u001b[1;32m     13\u001b[0m \u001b[0;31m# a = gt.interval.Interval.getIntervals(b, a)\u001b[0m\u001b[0;34m\u001b[0m\u001b[0;34m\u001b[0m\u001b[0;34m\u001b[0m\u001b[0m\n\u001b[1;32m     14\u001b[0m \u001b[0;31m# print(a)\u001b[0m\u001b[0;34m\u001b[0m\u001b[0;34m\u001b[0m\u001b[0;34m\u001b[0m\u001b[0m\n",
      "\u001b[0;32m/Volumes/Esparami/Source/code/Python/learn_guitar/guitarHarmony/guitarHarmony/interval.py\u001b[0m in \u001b[0;36mgetIntervals\u001b[0;34m(noteA, noteB)\u001b[0m\n\u001b[1;32m     62\u001b[0m                 \u001b[0;32mreturn\u001b[0m \u001b[0mInterval\u001b[0m\u001b[0;34m(\u001b[0m\u001b[0minterval\u001b[0m\u001b[0;34m)\u001b[0m\u001b[0;34m\u001b[0m\u001b[0;34m\u001b[0m\u001b[0m\n\u001b[1;32m     63\u001b[0m         \u001b[0;32melse\u001b[0m\u001b[0;34m:\u001b[0m\u001b[0;34m\u001b[0m\u001b[0;34m\u001b[0m\u001b[0m\n\u001b[0;32m---> 64\u001b[0;31m             \u001b[0mwarnings\u001b[0m\u001b[0;34m.\u001b[0m\u001b[0mwarn\u001b[0m\u001b[0;34m(\u001b[0m\u001b[0;34mf\"double augmented or double diminished ignored.\"\u001b[0m\u001b[0;34m,\u001b[0m \u001b[0mUserWarning\u001b[0m\u001b[0;34m)\u001b[0m\u001b[0;34m\u001b[0m\u001b[0;34m\u001b[0m\u001b[0m\n\u001b[0m\u001b[1;32m     65\u001b[0m             \u001b[0;32mreturn\u001b[0m\u001b[0;34m\u001b[0m\u001b[0;34m\u001b[0m\u001b[0m\n\u001b[1;32m     66\u001b[0m \u001b[0;34m\u001b[0m\u001b[0m\n",
      "\u001b[0;31mUserWarning\u001b[0m: double augmented or double diminished ignored."
     ]
    }
   ],
   "source": [
    "import guitarHarmony as gt\n",
    "a = gt.interval.Interval('A2')\n",
    "b = gt.interval.Interval('m3')\n",
    "a, b\n",
    "a == b\n",
    "# a.allIntervals()\n",
    "a = gt.note.Note('Cb')\n",
    "names = ['C', 'C#', 'Db', 'D', 'D#', 'Eb', 'E', 'F', 'F#', 'Gb', 'G', 'G#', 'Ab', 'A', 'A#', 'Bb', 'B', 'C5']\n",
    "# a.semiSteps(), b.semiSteps()\n",
    "for name in names:\n",
    "    b = gt.note.Note(name)\n",
    "    a, b, gt.interval.Interval.getIntervals(a, b)\n",
    "# a = gt.interval.Interval.getIntervals(b, a)\n",
    "# print(a)"
   ]
  },
  {
   "cell_type": "code",
   "execution_count": 220,
   "metadata": {},
   "outputs": [
    {
     "name": "stdout",
     "output_type": "stream",
     "text": [
      "fds\n"
     ]
    },
    {
     "ename": "UserWarning",
     "evalue": "dfsafdsa",
     "output_type": "error",
     "traceback": [
      "\u001b[0;31m----------------------------------------------------------\u001b[0m",
      "\u001b[0;31mUserWarning\u001b[0m              Traceback (most recent call last)",
      "\u001b[0;32m<ipython-input-220-33dc481101d7>\u001b[0m in \u001b[0;36m<module>\u001b[0;34m\u001b[0m\n\u001b[1;32m      1\u001b[0m \u001b[0;32mimport\u001b[0m \u001b[0mwarnings\u001b[0m\u001b[0;34m\u001b[0m\u001b[0;34m\u001b[0m\u001b[0m\n\u001b[1;32m      2\u001b[0m \u001b[0mprint\u001b[0m\u001b[0;34m(\u001b[0m\u001b[0;34m'fds'\u001b[0m\u001b[0;34m)\u001b[0m\u001b[0;34m\u001b[0m\u001b[0;34m\u001b[0m\u001b[0m\n\u001b[0;32m----> 3\u001b[0;31m \u001b[0mwarnings\u001b[0m\u001b[0;34m.\u001b[0m\u001b[0mwarn\u001b[0m\u001b[0;34m(\u001b[0m\u001b[0;34m'dfsafdsa'\u001b[0m\u001b[0;34m)\u001b[0m\u001b[0;34m\u001b[0m\u001b[0;34m\u001b[0m\u001b[0m\n\u001b[0m\u001b[1;32m      4\u001b[0m \u001b[0mprint\u001b[0m\u001b[0;34m(\u001b[0m\u001b[0;34m'fs'\u001b[0m\u001b[0;34m)\u001b[0m\u001b[0;34m\u001b[0m\u001b[0;34m\u001b[0m\u001b[0m\n",
      "\u001b[0;31mUserWarning\u001b[0m: dfsafdsa"
     ]
    }
   ],
   "source": [
    "import warnings\n",
    "print('fds')\n",
    "warnings.warn('dfsafdsa')\n",
    "print('fs')"
   ]
  },
  {
   "cell_type": "code",
   "execution_count": 176,
   "metadata": {},
   "outputs": [
    {
     "data": {
      "text/plain": [
       "('D', 'C')"
      ]
     },
     "execution_count": 176,
     "metadata": {},
     "output_type": "execute_result"
    },
    {
     "name": "stdout",
     "output_type": "stream",
     "text": [
      "M2\n"
     ]
    }
   ],
   "source": [
    "a = gt.note.Note('D4')\n",
    "b = gt.note.Note()\n",
    "diff=a.semiSteps()-b.semiSteps()\n",
    "a.tone, b.tone\n",
    "pitch_steps = abs(ord(a.tone) - ord(b.tone)) + 1\n",
    "def reverseDict(dic):\n",
    "\tinv_map = dict()\n",
    "\tfor k, v in dic.items():\n",
    "\t\tinv_map[v] = inv_map.get(v, [])\n",
    "\t\tinv_map[v].append(k)\n",
    "\treturn inv_map\n",
    "interval_to_semisteps = {'P1':0, 'A1':1, 'd2':0, 'm2':1, 'M2':2, 'A2':3,\n",
    "                 'd3':2, 'm3':3, 'M3':4, 'A3':5, 'd4':4, 'P4':5,\n",
    "                 'A4':6, 'd5':6, 'P5':7, 'A5':8, 'd6':7, 'm6':8,\n",
    "                 'M6':9, 'A6':10,'d7':9, 'm7':10, 'M7':11, 'A7':12,\n",
    "                 'd8':11, 'P8':12}\n",
    "semisteps_to_interval = reverseDict(interval_to_semisteps)\n",
    "for interval in semisteps_to_interval[diff]:\n",
    "    if interval.endswith(str(pitch_steps)):\n",
    "        print(interval)\n",
    "        break"
   ]
  },
  {
   "cell_type": "code",
   "execution_count": null,
   "metadata": {},
   "outputs": [],
   "source": []
  },
  {
   "cell_type": "code",
   "execution_count": null,
   "metadata": {},
   "outputs": [],
   "source": []
  },
  {
   "cell_type": "code",
   "execution_count": null,
   "metadata": {},
   "outputs": [],
   "source": []
  },
  {
   "cell_type": "code",
   "execution_count": null,
   "metadata": {},
   "outputs": [],
   "source": []
  },
  {
   "cell_type": "code",
   "execution_count": null,
   "metadata": {},
   "outputs": [],
   "source": []
  },
  {
   "cell_type": "code",
   "execution_count": null,
   "metadata": {},
   "outputs": [],
   "source": [
    "def getChord(root, chord_type):\n",
    "    return list(map(str,gt.chord.Chord(root, chord_type).notes))"
   ]
  },
  {
   "cell_type": "code",
   "execution_count": null,
   "metadata": {},
   "outputs": [],
   "source": [
    "getChord('C','maj7')\n",
    "getChord('B','m')"
   ]
  },
  {
   "cell_type": "code",
   "execution_count": null,
   "metadata": {},
   "outputs": [],
   "source": [
    "a=gt.note.Note('C4')\n",
    "str(a)"
   ]
  },
  {
   "cell_type": "code",
   "execution_count": null,
   "metadata": {},
   "outputs": [],
   "source": [
    "list(map(str, gt.chord.Chord('A').notes))\n",
    "list(map(str, gt.chord.Chord('B','dim').notes))"
   ]
  },
  {
   "cell_type": "code",
   "execution_count": null,
   "metadata": {},
   "outputs": [],
   "source": [
    "def getInterval(root='C', interval='P1'):\n",
    "    return [str(gt.note.Note(root)+gt.interval.Interval(interval))]"
   ]
  },
  {
   "cell_type": "code",
   "execution_count": null,
   "metadata": {},
   "outputs": [],
   "source": [
    "getInterval('D##','P4')"
   ]
  },
  {
   "cell_type": "code",
   "execution_count": null,
   "metadata": {},
   "outputs": [],
   "source": []
  }
 ],
 "metadata": {
  "kernelspec": {
   "display_name": "Python 3",
   "language": "python",
   "name": "python3"
  },
  "language_info": {
   "codemirror_mode": {
    "name": "ipython",
    "version": 3
   },
   "file_extension": ".py",
   "mimetype": "text/x-python",
   "name": "python",
   "nbconvert_exporter": "python",
   "pygments_lexer": "ipython3",
   "version": "3.7.1"
  }
 },
 "nbformat": 4,
 "nbformat_minor": 2
}
